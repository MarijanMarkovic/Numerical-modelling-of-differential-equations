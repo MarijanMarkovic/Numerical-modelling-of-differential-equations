{
  "nbformat": 4,
  "nbformat_minor": 0,
  "metadata": {
    "colab": {
      "name": "Laplace_vj1.ipynb",
      "provenance": [],
      "collapsed_sections": [],
      "include_colab_link": true
    },
    "kernelspec": {
      "name": "python3",
      "display_name": "Python 3"
    }
  },
  "cells": [
    {
      "cell_type": "markdown",
      "metadata": {
        "id": "view-in-github",
        "colab_type": "text"
      },
      "source": [
        "<a href=\"https://colab.research.google.com/github/MarijanMarkovic/Numerical-modelling-of-differential-equations/blob/main/Laplace_vj1.ipynb\" target=\"_parent\"><img src=\"https://colab.research.google.com/assets/colab-badge.svg\" alt=\"Open In Colab\"/></a>"
      ]
    },
    {
      "cell_type": "code",
      "metadata": {
        "id": "KW-olIGAXDrJ"
      },
      "source": [
        "!apt-get install -y -qq software-properties-common python-software-properties module-init-tools\n",
        "!add-apt-repository -y ppa:fenics-packages/fenics\n",
        "!apt-get update -qq\n",
        "!apt install -y --no-install-recommends fenics\n",
        "!rm -rf *"
      ],
      "execution_count": null,
      "outputs": []
    },
    {
      "cell_type": "code",
      "metadata": {
        "id": "2yxyCkvhXhuS"
      },
      "source": [
        "from fenics import*\n",
        "import matplotlib.pyplot as plt\n",
        "\n",
        "\n",
        "#1. Mesh Gen\n",
        "n=10\n",
        "mesh=UnitIntervalMesh(n)\n",
        "\n",
        "#2. Definition of Finite Element Space\n",
        "degree=1\n",
        "V=FunctionSpace(mesh, 'CG', degree)\n",
        "\n",
        "g_boundary=Constant(0.0)\n",
        "\n",
        "def boundary(x, on_boundary):\n",
        "  return on_boundary\n",
        "\n",
        "bc=DirichletBC(V, g_boundary, boundary)\n",
        "\n",
        "#3. Assembling/Solving\n",
        "u=TrialFunction(V)\n",
        "v=TestFunction(V)\n",
        "a=dot(grad(u), grad(v)) * dx\n",
        "f=Constant(1.0)\n",
        "L=f * v * dx\n",
        "\n",
        "\n",
        "u=Function(V)\n",
        "solve(a==L, u, bc)\n",
        "\n",
        "plt.show(u)\n",
        "plot(u)"
      ],
      "execution_count": null,
      "outputs": []
    },
    {
      "cell_type": "code",
      "metadata": {
        "id": "5QAUSj-vdjm0"
      },
      "source": [
        "from fenics import *\n",
        "\n",
        "def laplace_solve(n, degree, f):\n",
        "    # 1. mesh generation\n",
        "    mesh = UnitIntervalMesh(n)\n",
        "\n",
        "    # 2. definition of finite element space\n",
        "    V = FunctionSpace(mesh, 'CG', degree)\n",
        "\n",
        "    g_boundary = Constant(0.0)\n",
        "\n",
        "    def boundary(x, on_boundary):\n",
        "        return on_boundary\n",
        "\n",
        "    bc = DirichletBC(V, g_boundary, boundary)\n",
        "\n",
        "    # 3/4. assembling matrices and vectors/solve\n",
        "    u = TrialFunction(V)\n",
        "    v = TestFunction(V)\n",
        "\n",
        "    a = dot(grad(u), grad(v)) * dx\n",
        "    L = f * v * dx\n",
        "\n",
        "    u = Function(V)\n",
        "    solve(a == L, u, bc)\n",
        "\n",
        "    return u\n",
        "\n",
        "\n",
        "for degree in [1, 2]:\n",
        "    f1 = Constant(1)\n",
        "    u1 = Expression('x[0] * (1 - x[0]) / 2', degree=degree+2)\n",
        "\n",
        "    f2 = Expression('sin(pi * x[0])', degree=degree+1)\n",
        "    u2 = Expression('sin(pi * x[0]) / pi / pi', degree=degree+2)\n",
        "\n",
        "    print('f = 1')\n",
        "    print('------------------------------------------------')\n",
        "    for n in [10, 20, 40, 80, 160]:\n",
        "        uh = laplace_solve(n, degree, f1)\n",
        "\n",
        "        eL2 = errornorm(u1, uh, 'L2')\n",
        "        eH1 = errornorm(u1, uh, 'H10')\n",
        "\n",
        "        print('n={} degree={} eL2={:.2e} eH1={:.2e}'.format(n, degree, eL2, eH1));\n",
        "    print()\n",
        "\n",
        "    print('f = sin(pi x)')\n",
        "    print('------------------------------------------------')\n",
        "    for n in [10, 20, 40, 80, 160]:\n",
        "        uh = laplace_solve(n, degree, f2)\n",
        "\n",
        "        eL2 = errornorm(u2, uh, 'L2')\n",
        "        eH1 = errornorm(u2, uh, 'H10')\n",
        "\n",
        "        print('n={} degree={} eL2={:.2e} eH1={:.2e}'.format(n, degree, eL2, eH1));\n",
        "    print()\n"
      ],
      "execution_count": null,
      "outputs": []
    },
    {
      "cell_type": "code",
      "metadata": {
        "id": "8-7K4tCKlKbC"
      },
      "source": [
        ""
      ],
      "execution_count": null,
      "outputs": []
    }
  ]
}