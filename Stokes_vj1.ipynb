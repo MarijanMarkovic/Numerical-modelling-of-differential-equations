{
  "nbformat": 4,
  "nbformat_minor": 0,
  "metadata": {
    "colab": {
      "name": "Stokes_vj1.ipynb",
      "provenance": [],
      "collapsed_sections": [],
      "include_colab_link": true
    },
    "kernelspec": {
      "name": "python3",
      "display_name": "Python 3"
    }
  },
  "cells": [
    {
      "cell_type": "markdown",
      "metadata": {
        "id": "view-in-github",
        "colab_type": "text"
      },
      "source": [
        "<a href=\"https://colab.research.google.com/github/MarijanMarkovic/Numerical-modelling-of-differential-equations/blob/main/Stokes_vj1.ipynb\" target=\"_parent\"><img src=\"https://colab.research.google.com/assets/colab-badge.svg\" alt=\"Open In Colab\"/></a>"
      ]
    },
    {
      "cell_type": "code",
      "metadata": {
        "id": "UtWoE1Q7YkH5"
      },
      "source": [
        "!apt-get install -y -qq software-properties-common python-software-properties module-init-tools\n",
        "!add-apt-repository -y ppa:fenics-packages/fenics\n",
        "!apt-get update -qq\n",
        "!apt install -y --no-install-recommends fenics\n",
        "!rm -rf "
      ],
      "execution_count": null,
      "outputs": []
    },
    {
      "cell_type": "code",
      "metadata": {
        "id": "Gpk-qHS1YoBU",
        "colab": {
          "base_uri": "https://localhost:8080/",
          "height": 336
        },
        "outputId": "194eec24-c8ce-4350-e7d4-ab2da9016502"
      },
      "source": [
        "from fenics import*\n",
        "import matplotlib.pyplot as plt\n",
        "\n",
        "# Monolitic Solver For Stokes - Good For 2D problems up to 1e5 degrees of freedom\n",
        "\n",
        "def solve_Stokes(n, degree, u_exact, p_exact, f):\n",
        "  #1 Mesh Gen\n",
        "  nx, ny=n, n\n",
        "  mesh=UnitSquareMesh(nx, ny, 'crossed')\n",
        "\n",
        "  #2 Finite Element Space\n",
        "  V = VectorElement('CG', mesh.ufl_cell(), degree+1)\n",
        "  Q = FiniteElement('CG', mesh.ufl_cell(), degree)\n",
        "\n",
        "  X = FunctionSpace(mesh, MixedElement([V, Q]))\n",
        "  \n",
        "  #3. Problem Definiton\n",
        "  u, p=TestFunctions(X)\n",
        "  v, q=TrialFunctions(X)\n",
        "\n",
        "  def boundary(x, on_boundary):\n",
        "    return on_boundary\n",
        "  \n",
        "  def origin(x, on_boundary):\n",
        "    return near(x[0], 0.0) and near(x[1], 0.0)\n",
        "  \n",
        "  bc=DirichletBC(X.sub(0), u_exact, boundary)\n",
        "  bc_pressure=DirichletBC(X.sub(1), p_exact(0,0), origin, 'pointwise')\n",
        "  \n",
        "  a=(inner(grad(u), grad(v)) - p *div(v) - div(u) * q) * dx\n",
        "  L=dot(f, v) * dx\n",
        "  \n",
        "  #4. Solution\n",
        "  x=Function(X)\n",
        "  solve(a==L, x, [bc, bc_pressure])\n",
        "  \n",
        "  u, p=x.split()\n",
        "  \n",
        "  u.rename('velocity', 'velocity')\n",
        "  p.rename('pressure', 'pressure')\n",
        "  \n",
        "  return u, p\n",
        "\n",
        "#CONVERGENCE ANALYSIS\n",
        "degree = 1\n",
        "\n",
        "u_exact = Expression((\n",
        "        '-cos(x[0]) * sin(x[1])',\n",
        "        'sin(x[0]) * cos(x[1])'\n",
        "    ), degree=2*degree+1)\n",
        "p_exact = Expression(\n",
        "    '-0.25 * (cos(2*x[0]) + cos(2*x[1]))',\n",
        "    degree=2*degree+1)\n",
        "f = Expression((\n",
        "        '-2 * cos(x[0]) * sin(x[1]) + 0.5 * sin(2 * x[0])',\n",
        "        '2 * sin(x[0]) * cos(x[1]) + 0.5 * sin(2 * x[1])'\n",
        "    ), degree=2*degree+1)\n",
        "\n",
        "for n in [5, 10, 20, 40]:\n",
        "  uh, ph=solve_Stokes(n, degree, u_exact, p_exact, f)\n",
        "    \n",
        "  eL2=errornorm(p_exact, ph, 'L2')\n",
        "  eH1=errornorm(u_exact, uh, 'H1')\n",
        "    \n",
        "  print('n={} degree={} eL2={} eH1={}'.format(n, degree, eL2, eH1))\n",
        "  \n",
        "  plot(uh) #ne konvergira metoda za tlak - rješenje ovisi o velicini mreze\n",
        "\n",
        "  "
      ],
      "execution_count": null,
      "outputs": [
        {
          "output_type": "stream",
          "text": [
            "n=5 degree=1 eL2=0.003975113864543345 eH1=0.0015996067025196912\n",
            "n=10 degree=1 eL2=0.001013840431394918 eH1=0.0003991448177716486\n",
            "n=20 degree=1 eL2=0.000254929552813769 eH1=9.971852667757217e-05\n",
            "n=40 degree=1 eL2=6.383753032732365e-05 eH1=2.4924761332791397e-05\n"
          ],
          "name": "stdout"
        },
        {
          "output_type": "display_data",
          "data": {
            "image/png": "[encoded data removed]",
            "text/plain": [
              "<Figure size 432x288 with 1 Axes>"
            ]
          },
          "metadata": {
            "tags": []
          }
        }
      ]
    },
    {
      "cell_type": "code",
      "metadata": {
        "id": "4QmCqoVllf-2"
      },
      "source": [
        ""
      ],
      "execution_count": null,
      "outputs": []
    }
  ]
}