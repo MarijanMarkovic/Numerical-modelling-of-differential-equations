{
  "nbformat": 4,
  "nbformat_minor": 0,
  "metadata": {
    "colab": {
      "name": "Laplace_vj2.ipynb",
      "provenance": [],
      "collapsed_sections": [],
      "include_colab_link": true
    },
    "kernelspec": {
      "name": "python3",
      "display_name": "Python 3"
    }
  },
  "cells": [
    {
      "cell_type": "markdown",
      "metadata": {
        "id": "view-in-github",
        "colab_type": "text"
      },
      "source": [
        "<a href=\"https://colab.research.google.com/github/MarijanMarkovic/Numerical-modelling-of-differential-equations/blob/main/Laplace_vj2.ipynb\" target=\"_parent\"><img src=\"https://colab.research.google.com/assets/colab-badge.svg\" alt=\"Open In Colab\"/></a>"
      ]
    },
    {
      "cell_type": "code",
      "metadata": {
        "id": "IpeYcA1Dnrrz"
      },
      "source": [
        "!apt-get install -y -qq software-properties-common python-software-properties module-init-tools\n",
        "!add-apt-repository -y ppa:fenics-packages/fenics\n",
        "!apt-get update -qq\n",
        "!apt install -y --no-install-recommends fenics\n",
        "!rm -rf *"
      ],
      "execution_count": null,
      "outputs": []
    },
    {
      "cell_type": "code",
      "metadata": {
        "id": "tjMtIxiqnxuk"
      },
      "source": [
        "from fenics import*\n",
        "import matplotlib.pyplot as plt\n",
        "\n",
        "#1. Mesh Gen\n",
        "nx, ny=10, 10\n",
        "mesh=UnitSquareMesh(nx, ny, 'crossed')\n",
        "\n",
        "#2. DEfinition of Finite Element Space\n",
        "degree=1\n",
        "V=FunctionSpace(mesh, 'CG', degree)\n",
        "\n",
        "g_boundary=Constant(0.0)\n",
        "\n",
        "def boundary(x, on_boundary):\n",
        "  return on_boundary\n",
        "\n",
        "bc=DirichletBC(V, g_boundary, boundary)\n",
        "\n",
        "#3. Assembling/Solving\n",
        "u=TrialFunction(V)\n",
        "v=TestFunction(V)\n",
        "\n",
        "a=dot(grad(u),grad(v)) * dx\n",
        "f=Constant(1.0) \n",
        "L=f * v *dx\n",
        "\n",
        "u=Function(V)\n",
        "solve(a==L, u, bc)\n",
        "\n",
        "#5. Postprocessing\n",
        "plot(u)"
      ],
      "execution_count": null,
      "outputs": []
    },
    {
      "cell_type": "code",
      "metadata": {
        "id": "qMC5jp4YsVsa"
      },
      "source": [
        "from fenics import *\n",
        "\n",
        "\n",
        "def solve_laplace(n, degree, f):\n",
        "    # 1. mesh generation\n",
        "    nx, ny = n, n\n",
        "    mesh = UnitSquareMesh(nx, ny, 'crossed')\n",
        "\n",
        "    # 2. definition of finite element space\n",
        "    V = FunctionSpace(mesh, 'CG', degree)\n",
        "\n",
        "    g_boundary = Constant(0.0)\n",
        "\n",
        "    def boundary(x, on_boundary):\n",
        "        return on_boundary\n",
        "\n",
        "    bc = DirichletBC(V, g_boundary, boundary)\n",
        "\n",
        "    # 3/4. assembling matrices and vectors/solve\n",
        "    u = TrialFunction(V)\n",
        "    v = TestFunction(V)\n",
        "\n",
        "    a = dot(grad(u), grad(v)) * dx\n",
        "\n",
        "    L = f * v * dx\n",
        "\n",
        "    u = Function(V)\n",
        "    solve(a == L, u, bc)\n",
        "\n",
        "    return u\n",
        "\n",
        "\n",
        "for degree in [1, 2]:\n",
        "    f = Expression('2*pi*pi * sin(pi*x[0]) * sin(pi*x[1])', degree=degree+1)\n",
        "    u = Expression('sin(pi*x[0]) * sin(pi*x[1])', degree=degree+2)\n",
        "\n",
        "    for n in [10, 20, 40, 80, 160]:\n",
        "        uh = solve_laplace(n, degree, f)\n",
        "        eL2 = errornorm(u, uh, 'L2')\n",
        "        eH1 = errornorm(u, uh, 'H10')\n",
        "\n",
        "        print('n={} degree={} eL2={:.2e} eH1={:.2e}'.format(n, degree, eL2, eH1));\n",
        "\n",
        "    print()\n"
      ],
      "execution_count": null,
      "outputs": []
    },
    {
      "cell_type": "code",
      "metadata": {
        "id": "Wv3EYccyuKLU"
      },
      "source": [
        " "
      ],
      "execution_count": null,
      "outputs": []
    }
  ]
}