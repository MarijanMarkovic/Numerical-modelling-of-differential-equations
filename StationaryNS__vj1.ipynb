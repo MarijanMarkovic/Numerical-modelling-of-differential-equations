{
  "nbformat": 4,
  "nbformat_minor": 0,
  "metadata": {
    "colab": {
      "name": "StationaryNS_ vj1.ipynb",
      "provenance": [],
      "collapsed_sections": [],
      "include_colab_link": true
    },
    "kernelspec": {
      "name": "python3",
      "display_name": "Python 3"
    }
  },
  "cells": [
    {
      "cell_type": "markdown",
      "metadata": {
        "id": "view-in-github",
        "colab_type": "text"
      },
      "source": [
        "<a href=\"https://colab.research.google.com/github/MarijanMarkovic/Numerical-modelling-of-differential-equations/blob/main/StationaryNS__vj1.ipynb\" target=\"_parent\"><img src=\"https://colab.research.google.com/assets/colab-badge.svg\" alt=\"Open In Colab\"/></a>"
      ]
    },
    {
      "cell_type": "code",
      "metadata": {
        "id": "po54VUaJbCtP"
      },
      "source": [
        "!apt-get install -y -qq software-properties-common python-software-properties module-init-tools\n",
        "!add-apt-repository -y ppa:fenics-packages/fenics\n",
        "!apt-get update -qq\n",
        "!apt install -y --no-install-recommends fenics\n",
        "!rm -rf"
      ],
      "execution_count": null,
      "outputs": []
    },
    {
      "cell_type": "code",
      "metadata": {
        "id": "sfeQikP8bDaY",
        "colab": {
          "base_uri": "https://localhost:8080/",
          "height": 301
        },
        "outputId": "c918443b-132d-4296-dd84-2ceb5f910840"
      },
      "source": [
        "from fenics import*\n",
        "\n",
        "#1. Mesh Generation\n",
        "nx, ny=20, 20\n",
        "mesh=UnitSquareMesh(nx, ny, 'crossed')\n",
        "\n",
        "#2. Finite Element Space\n",
        "degree=1\n",
        "V=VectorElement('CG', mesh.ufl_cell(), degree+1)\n",
        "Q=FiniteElement('CG', mesh.ufl_cell(), degree)\n",
        "\n",
        "X=FunctionSpace(mesh, MixedElement([V, Q]))\n",
        "\n",
        "u_boundary=Expression(('near(x[1], 1) ? 1.0 : 0.0', '0'), degree=0)\n",
        "\n",
        "def boundary(x, on_boundary):\n",
        "  return on_boundary\n",
        "\n",
        "def origin(x, on_boundary):\n",
        "  return near(x[0], 0) and near(x[1], 0)\n",
        "\n",
        "bc = [\n",
        "    DirichletBC(X.sub(0), u_boundary, boundary),\n",
        "    DirichletBC(X.sub(1), Constant(0), origin, 'pointwise')\n",
        "]\n",
        "\n",
        "#3. Problem Definition\n",
        "def solve_stationary_NS(X, advection, Re, f, bc):\n",
        "  u, p=TrialFunctions(X)\n",
        "  v, q=TestFunctions(X)\n",
        "  \n",
        "  a=(inner(grad(u), grad(v))/Re - div(v) * p  - q * div(u)) * dx\n",
        "  L=dot(f, v) * dx\n",
        "  \n",
        "  if advection:\n",
        "    a +=dot(grad(u) * advection, v) * dx\n",
        "    \n",
        "  x=Function(X)\n",
        "  solve(a==L, x, bc)\n",
        "  \n",
        "  return x.split()\n",
        "\n",
        "#4. Solution\n",
        "Re=Constant(300)\n",
        "f=Constant((0,0))\n",
        "\n",
        "uh, ph=solve_stationary_NS(X, None, Re, f, bc)\n",
        "\n",
        "niter=100\n",
        "tolerance=1e-6\n",
        "for i in range(niter):\n",
        "  uh_old, ph_old=uh, ph\n",
        "  uh, ph=solve_stationary_NS(X, uh_old, Re, f, bc)\n",
        "  \n",
        "  error=(errornorm(uh, uh_old, 'H1')/norm(uh_old, 'H1')+\n",
        "         errornorm(ph, ph_old, 'L2')/norm(ph_old, 'L2'))\n",
        "  \n",
        "  print('step {}: {:.3e}'.format(i, error))\n",
        "  if error<tolerance:\n",
        "    break\n",
        "    \n",
        "uh.rename('velocity', 'velocity')\n",
        "ph.rename('pressure', 'pressure')\n",
        "\n",
        "File('stationaryNS_velocity.pvd') << uh\n",
        "File('stationaryNS_pressure.pvd') << ph"
      ],
      "execution_count": null,
      "outputs": [
        {
          "output_type": "stream",
          "text": [
            "Calling FFC just-in-time (JIT) compiler, this may take some time.\n",
            "step 0: 2.797e+00\n",
            "step 1: 4.765e-01\n",
            "step 2: 1.248e-01\n",
            "step 3: 2.813e-02\n",
            "step 4: 7.301e-03\n",
            "step 5: 1.794e-03\n",
            "step 6: 9.377e-04\n",
            "step 7: 5.126e-04\n",
            "step 8: 1.769e-04\n",
            "step 9: 7.954e-05\n",
            "step 10: 4.064e-05\n",
            "step 11: 1.783e-05\n",
            "step 12: 8.430e-06\n",
            "step 13: 4.097e-06\n",
            "step 14: 1.900e-06\n",
            "step 15: 8.954e-07\n"
          ],
          "name": "stdout"
        }
      ]
    },
    {
      "cell_type": "code",
      "metadata": {
        "id": "N08-e8VojkJj",
        "colab": {
          "base_uri": "https://localhost:8080/",
          "height": 518
        },
        "outputId": "e6af73d4-c903-49cd-f2e8-829129037d88"
      },
      "source": [
        "#!/usr/bin/env python\n",
        "\n",
        "from fenics import *\n",
        "\n",
        "# 1. mesh generation\n",
        "nx, ny = 10, 10\n",
        "mesh = UnitSquareMesh(nx, ny, 'crossed')\n",
        "\n",
        "# 2. finite element space\n",
        "degree = 1\n",
        "V = VectorElement('CG', mesh.ufl_cell(), degree+1)\n",
        "Q = FiniteElement('CG', mesh.ufl_cell(), degree)\n",
        "\n",
        "X = FunctionSpace(mesh, MixedElement([V, Q]))\n",
        "\n",
        "u_boundary = Expression((\n",
        "        'near(x[1], 1) ? 1.0 : 0.0',\n",
        "        '0'\n",
        "    ), degree=0)\n",
        "\n",
        "def boundary(x, on_boundary):\n",
        "  return on_boundary\n",
        "\n",
        "def origin(x, on_boundary):\n",
        "  return near(x[0], 0) and near(x[1], 0)\n",
        "\n",
        "bc = [\n",
        "    DirichletBC(X.sub(0), u_boundary, boundary),\n",
        "    DirichletBC(X.sub(1), Constant(0), origin, 'pointwise')\n",
        "]\n",
        "\n",
        "# 3. problem definition\n",
        "def solve_linear(X, advection, Re, f, bc):\n",
        "  u, p = TrialFunctions(X)\n",
        "  v, q = TestFunctions(X)\n",
        "  \n",
        "  a = (inner(grad(u), grad(v)) / Re - p * div(v) - div(u) * q) * dx\n",
        "  L = dot(f, v) * dx\n",
        "  if advection:\n",
        "    a += dot(grad(u) * advection, v) * dx\n",
        "\n",
        "    A = lambda u, p: -div(grad(u)) / Re + (grad(u) * advection) + div(advection) * u / 2 + grad(p)\n",
        "    A_SS = lambda u, p: (grad(u) * advection) + div(advection) * u / 2 + grad(p)\n",
        "  \n",
        "    h = CellDiameter(X.mesh())\n",
        "    anorm = sqrt(dot(advection, advection))\n",
        "    tau_K = 0.5 * h / conditional(anorm * h * Re > 2, anorm, 2 / h / Re)\n",
        "  \n",
        "    a += tau_K * (dot(A(u, p), A_SS(v, q)) + div(u) * div(v)) * dx\n",
        "    L += tau_K * (dot(f, A_SS(v, q))) * dx\n",
        "  \n",
        "  x = Function(X)\n",
        "  solve(a == L, x, bc)\n",
        "  \n",
        "  return x.split()\n",
        "\n",
        "# 4. solution\n",
        "Re = Constant(3000)\n",
        "f = Constant((0, 0))\n",
        "\n",
        "uh, ph = solve_linear(X, Constant((0, 0)), Re, f, bc)\n",
        "\n",
        "niter = 40\n",
        "tolerance = 1e-6\n",
        "for i in range(niter):\n",
        "  uh_old, ph_old = uh, ph\n",
        "  uh, ph = solve_linear(X, uh_old, Re, f, bc)\n",
        "  \n",
        "  error = (errornorm(uh, uh_old, 'H1') / norm(uh_old, 'H1') +\n",
        "           errornorm(ph, ph_old, 'L2') / norm(ph_old, 'L2'))\n",
        "  print('step {}: {:.3e}'.format(i, error))\n",
        "  if error < tolerance:\n",
        "    break\n",
        "\n",
        "uh.rename('velocity', 'velocity')\n",
        "ph.rename('pressure', 'pressure')\n",
        "\n",
        "File('velocity.pvd') << uh\n",
        "File('pressure.pvd') << ph\n"
      ],
      "execution_count": null,
      "outputs": [
        {
          "output_type": "stream",
          "text": [
            "step 9: 5.694e-02\n",
            "step 10: 3.460e-02\n",
            "step 11: 2.504e-02\n",
            "step 12: 1.691e-02\n",
            "step 13: 1.156e-02\n",
            "step 14: 7.971e-03\n",
            "step 15: 5.383e-03\n",
            "step 16: 3.733e-03\n",
            "step 17: 2.514e-03\n",
            "step 18: 1.747e-03\n",
            "step 19: 1.177e-03\n",
            "step 20: 8.182e-04\n",
            "step 21: 5.520e-04\n",
            "step 22: 3.832e-04\n",
            "step 23: 2.591e-04\n",
            "step 24: 1.796e-04\n",
            "step 25: 1.216e-04\n",
            "step 26: 8.417e-05\n",
            "step 27: 5.712e-05\n",
            "step 28: 3.946e-05\n",
            "step 29: 2.682e-05\n",
            "step 30: 1.851e-05\n",
            "step 31: 1.260e-05\n",
            "step 32: 8.681e-06\n",
            "step 33: 5.915e-06\n",
            "step 34: 4.073e-06\n",
            "step 35: 2.778e-06\n",
            "step 36: 1.911e-06\n",
            "step 37: 1.304e-06\n",
            "step 38: 8.968e-07\n"
          ],
          "name": "stdout"
        }
      ]
    },
    {
      "cell_type": "code",
      "metadata": {
        "id": "hXOFmIQ5kqGh"
      },
      "source": [
        "plot(uh)"
      ],
      "execution_count": null,
      "outputs": []
    },
    {
      "cell_type": "code",
      "metadata": {
        "id": "WV2nsdM-teFb"
      },
      "source": [
        ""
      ],
      "execution_count": null,
      "outputs": []
    }
  ]
}