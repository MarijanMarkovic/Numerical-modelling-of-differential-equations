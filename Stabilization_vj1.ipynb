{
  "nbformat": 4,
  "nbformat_minor": 0,
  "metadata": {
    "colab": {
      "name": "Stabilization_vj1.ipynb",
      "provenance": [],
      "collapsed_sections": [],
      "include_colab_link": true
    },
    "kernelspec": {
      "name": "python3",
      "display_name": "Python 3"
    }
  },
  "cells": [
    {
      "cell_type": "markdown",
      "metadata": {
        "id": "view-in-github",
        "colab_type": "text"
      },
      "source": [
        "<a href=\"https://colab.research.google.com/github/MarijanMarkovic/Numerical-modelling-of-differential-equations/blob/main/Stabilization_vj1.ipynb\" target=\"_parent\"><img src=\"https://colab.research.google.com/assets/colab-badge.svg\" alt=\"Open In Colab\"/></a>"
      ]
    },
    {
      "cell_type": "code",
      "metadata": {
        "id": "GwFLg3n4l9B3"
      },
      "source": [
        "!apt-get install -y -qq software-properties-common python-software-properties module-init-tools\n",
        "!add-apt-repository -y ppa:fenics-packages/fenics\n",
        "!apt-get update -qq\n",
        "!apt install -y --no-install-recommends fenics\n",
        "!rm -rf *"
      ],
      "execution_count": null,
      "outputs": []
    },
    {
      "cell_type": "code",
      "metadata": {
        "id": "vk-fKVvVmbQr",
        "colab": {
          "base_uri": "https://localhost:8080/",
          "height": 353
        },
        "outputId": "fc50cf67-c2f1-4ea1-b982-0ec7b007e219"
      },
      "source": [
        "from fenics import*\n",
        "import matplotlib.pyplot as plt\n",
        "\n",
        "\n",
        "degree=1\n",
        "\n",
        "mu=Constant(1.e-1)\n",
        "bx, by=1, 1\n",
        "b=Constant((bx, by))\n",
        "Sigma=Constant(0.0)\n",
        "\n",
        "f=Constant(0.0)\n",
        "u_exact=Expression('((exp(bx * x[0])/mu)-1)/(exp(bx/mu)-1)+'\n",
        "                   '((exp(by * x[1])/mu)-1)/(exp(by/mu)-1)',\n",
        "                  mu=mu, bx=bx, by=by, degree=degree * 2 + 1)\n",
        "\n",
        "delta=Constant(1.0)\n",
        "\n",
        "def solve_problem(nx, ny, degree, f, u_exact, delta):\n",
        "  #1. Mesh Gen\n",
        "  mesh=UnitSquareMesh(nx, ny,'crossed')\n",
        "  \n",
        "  #2. Finite Element Space\n",
        "  V=FunctionSpace(mesh, 'CG', degree)\n",
        "\n",
        "  g_boundary=u_exact\n",
        "\n",
        "  def boundary(x, on_boundary):\n",
        "    return on_boundary\n",
        "\n",
        "  bc=DirichletBC(V, g_boundary, boundary)\n",
        "\n",
        "  #3. Assembling/Solving\n",
        "  u=TrialFunction(V)\n",
        "  v=TestFunction(V)\n",
        "  \n",
        "  a=(mu * dot(grad(u), grad(v)) + dot(b, grad(u)) * v) * dx\n",
        "  L=f * v * dx\n",
        "  \n",
        "  h = CellDiameter(mesh)\n",
        "  bnorm = sqrt(dot(b, b))\n",
        "  tau_K = 0.5 * delta * h / conditional(bnorm * h > 6 * mu, bnorm, 6 * mu / h)\n",
        "\n",
        "  rho = Constant(0)\n",
        "  A = lambda u: -mu * div(grad(u)) + dot(b, grad(u))\n",
        "  A_S = lambda u: -mu * div(grad(u)) - 0.5 * div(b) * u\n",
        "  A_SS = lambda u: dot(b, grad(u)) + 0.5 * div(b) * u\n",
        "\n",
        "  a_stabilization = tau_K * A(u) * (A_SS(v) + rho * A_S(v)) * dx\n",
        "  \n",
        "  #a = a + a_stabilization\n",
        "\n",
        "  u = Function(V)\n",
        "  u.rename('solution', 'solution')\n",
        "  solve(a == L, u, bc)\n",
        "  \n",
        "  return mesh, u\n",
        "\n",
        "\n",
        "for n in [10, 20, 40, 80]:\n",
        "  mesh, u = solve_problem(n, n, degree, f, u_exact, delta)\n",
        "  print('n = {}, error L2 = {:.3e}, error H1 = {}'.format(n,\n",
        "    errornorm(u_exact, u, 'L2'),\n",
        "    errornorm(u_exact, u, 'H10')))\n",
        "  \n",
        "plot(u)\n",
        "plt.show()\n",
        "\n",
        "VTKfile=File('Stabilization.pvd')\n",
        "VTKfile << u"
      ],
      "execution_count": null,
      "outputs": [
        {
          "output_type": "stream",
          "text": [
            "Calling FFC just-in-time (JIT) compiler, this may take some time.\n",
            "n = 10, error L2 = 4.416e-04, error H1 = 0.0024350850128253315\n",
            "n = 20, error L2 = 4.412e-04, error H1 = 0.0024414903342675673\n",
            "n = 40, error L2 = 4.411e-04, error H1 = 0.002443181694268808\n",
            "n = 80, error L2 = 4.411e-04, error H1 = 0.002443611483450725\n"
          ],
          "name": "stdout"
        },
        {
          "output_type": "display_data",
          "data": {
            "image/png": "[encoded data removed]",
            "text/plain": [
              "<Figure size 432x288 with 1 Axes>"
            ]
          },
          "metadata": {
            "tags": []
          }
        }
      ]
    },
    {
      "cell_type": "code",
      "metadata": {
        "id": "_WwgpzRCpBAv",
        "colab": {
          "base_uri": "https://localhost:8080/",
          "height": 33
        },
        "outputId": "9bedec5a-19b4-418b-9d78-b1a188dd2ed0"
      },
      "source": [
        ""
      ],
      "execution_count": null,
      "outputs": [
        {
          "output_type": "execute_result",
          "data": {
            "text/plain": [
              "Coefficient(FunctionSpace(None, FiniteElement('Lagrange', None, 3)), 7)"
            ]
          },
          "metadata": {
            "tags": []
          },
          "execution_count": 3
        }
      ]
    },
    {
      "cell_type": "code",
      "metadata": {
        "id": "W675Bvg-pF6R"
      },
      "source": [
        ""
      ],
      "execution_count": null,
      "outputs": []
    }
  ]
}