{
  "nbformat": 4,
  "nbformat_minor": 0,
  "metadata": {
    "colab": {
      "name": "Parabolic_vj1.ipynb",
      "provenance": [],
      "collapsed_sections": [],
      "toc_visible": true,
      "include_colab_link": true
    },
    "kernelspec": {
      "name": "python3",
      "display_name": "Python 3"
    }
  },
  "cells": [
    {
      "cell_type": "markdown",
      "metadata": {
        "id": "view-in-github",
        "colab_type": "text"
      },
      "source": [
        "<a href=\"https://colab.research.google.com/github/MarijanMarkovic/Numerical-modelling-of-differential-equations/blob/main/Parabolic_vj1.ipynb\" target=\"_parent\"><img src=\"https://colab.research.google.com/assets/colab-badge.svg\" alt=\"Open In Colab\"/></a>"
      ]
    },
    {
      "cell_type": "code",
      "metadata": {
        "id": "MupMjl3EfZrd"
      },
      "source": [
        "!apt-get install -y -qq software-properties-common python-software-properties module-init-tools\n",
        "!add-apt-repository -y ppa:fenics-packages/fenics\n",
        "!apt-get update -qq\n",
        "!apt install -y --no-install-recommends fenics\n",
        "!rm -rf *"
      ],
      "execution_count": null,
      "outputs": []
    },
    {
      "cell_type": "code",
      "metadata": {
        "id": "G-IKMZXvfo3K"
      },
      "source": [
        "from fenics import*\n",
        "import matplotlib.pyplot as plt\n",
        "\n",
        "#1. Mesh Gen\n",
        "nx, ny=10, 10\n",
        "mesh=UnitSquareMesh(nx, ny, 'crossed')\n",
        "\n",
        "#2. Finite Element Space\n",
        "degree=1\n",
        "V=FunctionSpace(mesh, 'CG', degree)\n",
        "\n",
        "g_boundary=Constant(0.0)\n",
        "\n",
        "def boundary(x, on_boundary):\n",
        "  return on_boundary\n",
        "\n",
        "bc=DirichletBC(V, g_boundary, boundary)\n",
        "\n",
        "#3. Problem Definition\n",
        "u_ex=Expression('1 + 0.5 * sin(omega * time) * sin(2 * pi * m * x[0]) * sin(2 * pi * n * x[1])',\n",
        "                 degree=degree*2+1, domain=mesh, time=0.0, omega=pi, m=0.5, n=0.5)\n",
        "u_old=project(u_ex, V)\n",
        "f=Expression('0.5 * (omega * cos(omega * time) + 4 * (m * m + n * n) * pi * pi * sin(omega * time)) * sin(2 * pi * m * x[0]) * sin(2 * pi * n * x[1])',\n",
        "               degree=degree+1, time=0.0, omega=pi, m=0.5, n=0.5)\n",
        "\n",
        "Tfin = 1.0\n",
        "dt = 0.1\n",
        "theta = 0.0\n",
        "\n",
        "u = TrialFunction(V)\n",
        "v = TestFunction(V)\n",
        "\n",
        "a = (u * v / dt + theta * inner(grad(u), grad(v))) * dx\n",
        "L1 = ((u_old * v / dt) - (1 - theta) * inner(grad(u_old), grad(v)))* dx\n",
        "L2 = f * v * dx\n",
        "\n",
        "# 4. Solve the problem\n",
        "A = assemble(a)\n",
        "bc.apply(A)\n",
        "Ainv = LUSolver(A)\n",
        "\n",
        "t = 0\n",
        "\n",
        "f.time = t\n",
        "u_ex.time = t\n",
        "\n",
        "l2err = errornorm(u_ex, u_old, 'L2')\n",
        "h1err = errornorm(u_ex, u_old, 'H10')\n",
        "\n",
        "while t < Tfin:\n",
        "  b21 = assemble(L2)\n",
        "\n",
        "  t += dt\n",
        "\n",
        "  f.time = t\n",
        "  b1 = assemble(L1)\n",
        "  b22 = assemble(L2)\n",
        "\n",
        "  b = b1 + theta * b22 + (1 - theta) * b21\n",
        "  bc.apply(b)\n",
        "\n",
        "  Ainv.solve(u_old.vector(), b)\n",
        "\n",
        "  u_ex.time = t\n",
        "  l2err = max(l2err, errornorm(u_ex, u_old, 'L2'))\n",
        "  h1err = max(h1err, errornorm(u_ex, u_old, 'H10'))\n",
        "\n",
        "print('L2 = {:.4e}'.format(l2err))\n",
        "print('H1 = {:.4e}'.format(h1err))\n"
      ],
      "execution_count": null,
      "outputs": []
    },
    {
      "cell_type": "code",
      "metadata": {
        "id": "r37CSe7Qk-ma",
        "colab": {
          "base_uri": "https://localhost:8080/",
          "height": 420
        },
        "outputId": "ef6b8659-7322-4e97-c276-6018ebb8cd57"
      },
      "source": [
        "from fenics import*\n",
        "import matplotlib.pyplot as plt\n",
        "\n",
        "#1. Mesh Gen\n",
        "nx, ny=50, 50\n",
        "mesh=UnitSquareMesh(nx, ny, 'crossed')\n",
        "dim=mesh.geometric_dimension()\n",
        "\n",
        "boundary_markers=MeshFunction('size_t', mesh, dim-1, 0)\n",
        "boundary_markers.rename('boundary label', 'boundary')\n",
        "\n",
        "class Boundary(SubDomain):\n",
        "  def inside(self, x, on_boundary):\n",
        "    return on_boundary\n",
        "  \n",
        "class DirichletBoundary(SubDomain):\n",
        "  def inside(self, x, on_boundary):\n",
        "    return on_boundary and near(x[0], 0.0) and (0.25 <= x[1] <=0.75)\n",
        "  \n",
        "class RobinBoundary(SubDomain):\n",
        "  def inside(self, x, on_boundary):\n",
        "    return on_boundary and near(x[1], 1.0) and (0.25 <= x[0] <=0.75);\n",
        "\n",
        "Boundary().mark(boundary_markers, 1)\n",
        "DirichletBoundary().mark(boundary_markers, 2)\n",
        "RobinBoundary().mark(boundary_markers, 3)\n",
        "\n",
        "dx=Measure('dx', domain=mesh)\n",
        "ds=Measure('ds', domain=mesh, subdomain_data=boundary_markers)\n",
        "\n",
        "\n",
        "#2. Finite Element Space\n",
        "degree=1\n",
        "V=FunctionSpace(mesh, 'CG', degree)\n",
        "\n",
        "gD=Constant(40.0)\n",
        "bc=DirichletBC(V, gD, boundary_markers, 2)\n",
        "\n",
        "#3. Definition of the problem\n",
        "k=Constant(1.e-2)\n",
        "alpha=Constant(1.e-2)\n",
        "Tfin=200\n",
        "dt=5\n",
        "\n",
        "uEnv=Constant(5.0)\n",
        "\n",
        "u=TestFunction(V)\n",
        "v=TrialFunction(V)\n",
        "\n",
        "u_old=project(Constant(20.0), V)\n",
        "u_old.rename('temperature', 'temperature')\n",
        "\n",
        "a=(u * v/dt + k* dot(grad(u), grad(v))) * dx + alpha * u * v *ds(3)\n",
        "L=u_old * v/dt * dx + alpha * uEnv * v * ds(3)\n",
        "\n",
        "#4. Assembling/Solving\n",
        "A=assemble(a)\n",
        "bc.apply(A)\n",
        "Ainv=LUSolver(A)\n",
        "\n",
        "t=0\n",
        "VTKfile = File('parabolic_vj2.pvd')\n",
        "VTKfile << (u_old, t)\n",
        "\n",
        "while t<Tfin:\n",
        "  t+=dt\n",
        "  b=assemble(L)\n",
        "  bc.apply(b)\n",
        "  \n",
        "  Ainv.solve(u_old.vector(), b)\n",
        "  plot(u_old)\n",
        "  VTKfile << (u_old, t)"
      ],
      "execution_count": null,
      "outputs": [
        {
          "output_type": "stream",
          "text": [
            "Calling FFC just-in-time (JIT) compiler, this may take some time.\n",
            "Calling FFC just-in-time (JIT) compiler, this may take some time.\n",
            "Calling FFC just-in-time (JIT) compiler, this may take some time.\n",
            "Calling FFC just-in-time (JIT) compiler, this may take some time.\n",
            "Calling FFC just-in-time (JIT) compiler, this may take some time.\n",
            "Calling FFC just-in-time (JIT) compiler, this may take some time.\n",
            "Calling FFC just-in-time (JIT) compiler, this may take some time.\n",
            "Calling FFC just-in-time (JIT) compiler, this may take some time.\n",
            "Calling FFC just-in-time (JIT) compiler, this may take some time.\n"
          ],
          "name": "stdout"
        },
        {
          "output_type": "display_data",
          "data": {
            "image/png": "[encoded data removed]",
            "text/plain": [
              "<Figure size 432x288 with 1 Axes>"
            ]
          },
          "metadata": {
            "tags": []
          }
        }
      ]
    },
    {
      "cell_type": "markdown",
      "metadata": {
        "id": "T71TeT3PVi01"
      },
      "source": [
        "# New Section"
      ]
    }
  ]
}