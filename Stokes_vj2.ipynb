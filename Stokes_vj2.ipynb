{
  "nbformat": 4,
  "nbformat_minor": 0,
  "metadata": {
    "colab": {
      "name": "Stokes_vj2.ipynb",
      "provenance": [],
      "collapsed_sections": [],
      "include_colab_link": true
    },
    "kernelspec": {
      "name": "python3",
      "display_name": "Python 3"
    }
  },
  "cells": [
    {
      "cell_type": "markdown",
      "metadata": {
        "id": "view-in-github",
        "colab_type": "text"
      },
      "source": [
        "<a href=\"https://colab.research.google.com/github/MarijanMarkovic/Numerical-modelling-of-differential-equations/blob/main/Stokes_vj2.ipynb\" target=\"_parent\"><img src=\"https://colab.research.google.com/assets/colab-badge.svg\" alt=\"Open In Colab\"/></a>"
      ]
    },
    {
      "cell_type": "code",
      "metadata": {
        "id": "RC1kkA0F4rqp"
      },
      "source": [
        "!apt-get install -y -qq software-properties-common python-software-properties module-init-tools\n",
        "!add-apt-repository -y ppa:fenics-packages/fenics\n",
        "!apt-get update -qq\n",
        "!apt install -y --no-install-recommends fenics\n",
        "!rm -rf \n",
        "\n",
        "!pip3 install git+https://bitbucket.org/mattiapenati/cbc.block.git #for the block matrices"
      ],
      "execution_count": null,
      "outputs": []
    },
    {
      "cell_type": "code",
      "metadata": {
        "id": "Q0i5a0-d4xD3",
        "colab": {
          "base_uri": "https://localhost:8080/",
          "height": 50
        },
        "outputId": "797b8410-ea50-40a0-9932-42f9e77e4cb4"
      },
      "source": [
        "#!/usr/bin/env python\n",
        "\n",
        "from fenics import *\n",
        "from block import *\n",
        "from block.iterative import LGMRES\n",
        "from block.algebraic.petsc import AMG, LumpedInvDiag\n",
        "\t\n",
        "\n",
        "# 1. mesh generation\n",
        "nx, ny = 40, 40\n",
        "mesh = UnitSquareMesh(nx, ny, 'crossed')\n",
        "\n",
        "# 2. finite element space\n",
        "degree = 1\n",
        "V = VectorFunctionSpace(mesh, 'CG', degree+1)\n",
        "Q = FunctionSpace(mesh, 'CG', degree)\n",
        "\n",
        "# 3. problem definition\n",
        "u = TrialFunction(V)\n",
        "v = TestFunction(V)\n",
        "\n",
        "p = TrialFunction(Q)\n",
        "q = TestFunction(Q)\n",
        "\n",
        "\n",
        "def top_boundary(x, on_boundary):\n",
        "    return on_boundary and near(x[1], 1)\n",
        "\n",
        "def other_boundary(x, on_boundary):\n",
        "    return on_boundary and not near(x[1], 1)\n",
        "\n",
        "bcs = [\n",
        "    DirichletBC(V, Constant((1, 0)), top_boundary),\n",
        "    DirichletBC(V, Constant((0, 0)), other_boundary)\n",
        "]\n",
        "\n",
        "a = inner(grad(u), grad(v)) * dx\n",
        "bT = - div(v) * p * dx\n",
        "b = -div(u) * q * dx\n",
        "c = p * q * dx\n",
        "L1 = dot(Constant((0, 0)), v) * dx\n",
        "L2 = Constant(0) * q * dx\n",
        "\n",
        "# 4. solution\n",
        "A, f1 = assemble_system(a, L1)\n",
        "BT = assemble(bT)\n",
        "for bc in bcs:\n",
        "    bc.apply(A, f1)\n",
        "    bc.zero(BT)\n",
        "\n",
        "B = assemble(b)\n",
        "f2 = assemble(L2)\n",
        "\n",
        "Sigma = block_mat([[A, BT], [B, 0]])\n",
        "bb = block_vec([f1, f2])\n",
        "\n",
        "M = assemble(c)\n",
        "\n",
        "Ap = AMG(A)\n",
        "Mp = LumpedInvDiag(M)\n",
        "\n",
        "P = block_mat([[Ap, 0],\n",
        "               [0, Mp]])\n",
        "\n",
        "#solver = MinRes(Sigma)\n",
        "solver = LGMRES(Sigma, precond=P)\n",
        "xx = solver * bb\n",
        "\n",
        "u = Function(V, xx[0])\n",
        "p = Function(Q, xx[1])\n",
        "\n",
        "u.rename('velocity', 'velocity')\n",
        "p.rename('pressure', 'pressure')\n",
        "\n",
        "File('velocity.pvd') << u\n",
        "File('pressure.pvd') << p\n"
      ],
      "execution_count": null,
      "outputs": [
        {
          "output_type": "stream",
          "text": [
            "Calling FFC just-in-time (JIT) compiler, this may take some time.\n",
            "LGMRES converged [iter= 2, time=1.60s, res=4.3e-09]\n"
          ],
          "name": "stdout"
        }
      ]
    },
    {
      "cell_type": "code",
      "metadata": {
        "id": "GqbSoXo2W_Gr",
        "colab": {
          "base_uri": "https://localhost:8080/",
          "height": 67
        },
        "outputId": "8083ed4e-a6e9-4b6e-9e31-81b8b32f8f90"
      },
      "source": [
        "from fenics import *\n",
        "from block import *\n",
        "from block.iterative import LGMRES\n",
        "from block.algebraic.petsc import LumpedInvDiag, LU\n",
        "\n",
        "\n",
        "# 1. mesh generation\n",
        "nx, ny = 40, 40\n",
        "mesh = UnitSquareMesh(nx, ny, 'crossed')\n",
        "\n",
        "# 2. finite element space\n",
        "degree = 1\n",
        "V = VectorFunctionSpace(mesh, 'CG', degree+1)\n",
        "Q = FunctionSpace(mesh, 'CG', degree)\n",
        "\n",
        "# 3. problem definition\n",
        "u = TrialFunction(V)\n",
        "v = TestFunction(V)\n",
        "\n",
        "p = TrialFunction(Q)\n",
        "q = TestFunction(Q)\n",
        "\n",
        "\n",
        "def top_boundary(x, on_boundary):\n",
        "    return on_boundary and near(x[1], 1)\n",
        "\n",
        "def other_boundary(x, on_boundary):\n",
        "    return on_boundary and not near(x[1], 1)\n",
        "\n",
        "bcs = [\n",
        "    DirichletBC(V, Constant((1, 0)), top_boundary),\n",
        "    DirichletBC(V, Constant((0, 0)), other_boundary)\n",
        "]\n",
        "\n",
        "a = inner(grad(u), grad(v)) * dx\n",
        "bT = - div(v) * p * dx\n",
        "b = -div(u) * q * dx\n",
        "c = p * q * dx\n",
        "L1 = dot(Constant((0, 0)), v) * dx\n",
        "\n",
        "# 4. solution\n",
        "A, f1 = assemble_system(a, L1)\n",
        "BT = assemble(bT)\n",
        "for bc in bcs:\n",
        "    bc.apply(A, f1)\n",
        "    bc.zero(BT)\n",
        "\n",
        "B = assemble(b)\n",
        "\n",
        "M = assemble(c)\n",
        "Mp = LumpedInvDiag(M)\n",
        "\n",
        "Ainv = LU(A)\n",
        "S = B * Ainv * BT\n",
        "\n",
        "b = B * Ainv * f1\n",
        "#solver = LGMRES(S)\n",
        "solver = LGMRES(S, precond=Mp)\n",
        "x1 = solver * b\n",
        "\n",
        "x0 = Ainv * (f1 - BT * x1)\n",
        "\n",
        "u = Function(V, x0)\n",
        "p = Function(Q, x1)\n",
        "\n",
        "u.rename('velocity', 'velocity')\n",
        "p.rename('pressure', 'pressure')\n",
        "\n",
        "File('velocity.pvd') << u\n",
        "File('pressure.pvd') << p"
      ],
      "execution_count": null,
      "outputs": [
        {
          "output_type": "stream",
          "text": [
            "Calling FFC just-in-time (JIT) compiler, this may take some time.\n",
            "Calling FFC just-in-time (JIT) compiler, this may take some time.\n",
            "LGMRES converged [iter= 1, time=0.31s, res=2.0e-08]\n"
          ],
          "name": "stdout"
        }
      ]
    },
    {
      "cell_type": "code",
      "metadata": {
        "id": "3oLrJtUXW_-7"
      },
      "source": [
        ""
      ],
      "execution_count": null,
      "outputs": []
    }
  ]
}