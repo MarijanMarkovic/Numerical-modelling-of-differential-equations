{
  "nbformat": 4,
  "nbformat_minor": 0,
  "metadata": {
    "colab": {
      "name": "StationaryNS_vj2.ipynb",
      "provenance": [],
      "collapsed_sections": [],
      "include_colab_link": true
    },
    "kernelspec": {
      "name": "python3",
      "display_name": "Python 3"
    }
  },
  "cells": [
    {
      "cell_type": "markdown",
      "metadata": {
        "id": "view-in-github",
        "colab_type": "text"
      },
      "source": [
        "<a href=\"https://colab.research.google.com/github/MarijanMarkovic/Numerical-modelling-of-differential-equations/blob/main/StationaryNS_vj2.ipynb\" target=\"_parent\"><img src=\"https://colab.research.google.com/assets/colab-badge.svg\" alt=\"Open In Colab\"/></a>"
      ]
    },
    {
      "cell_type": "code",
      "metadata": {
        "id": "Kx-b1ILeMK7p"
      },
      "source": [
        "!apt-get install -y -qq software-properties-common python-software-properties module-init-tools\n",
        "!add-apt-repository -y ppa:fenics-packages/fenics\n",
        "!apt-get update -qq\n",
        "!apt install -y --no-install-recommends fenics\n",
        "!rm -rf"
      ],
      "execution_count": null,
      "outputs": []
    },
    {
      "cell_type": "code",
      "metadata": {
        "id": "FTUJ_UkbMNbS"
      },
      "source": [
        "from fenics import*\n",
        "from matplotlib import pyplot as plt\n",
        "\n",
        "#1 Mesh Gen\n",
        "nx, ny=20, 20\n",
        "mesh=UnitSquareMesh(nx, ny, 'crossed')\n",
        "degree=1\n",
        "\n",
        "#2 Finite Element Space\n",
        "V=VectorElement('CG', mesh.ufl_cell(), degree+1)\n",
        "Q=FiniteElement('CG', mesh.ufl_cell(), degree)\n",
        "\n",
        "X=FunctionSpace(mesh, MixedElement([V, Q]))\n",
        "\n",
        "u_boundary=Expression(('near(x[1], 1) ? 1.0 : 0.0', '0'),degree=0)\n",
        "\n",
        "def boundary(x, on_boundary):\n",
        "  return on_boundary\n",
        "\n",
        "def origin(x, on_boundary):\n",
        "  return near(x[0], 0) and near(x[1], 0)\n",
        "\n",
        "bc=[\n",
        "    DirichletBC(X.sub(0), u_boundary, boundary),\n",
        "    DirichletBC(X.sub(1), Constant(0.0), origin, 'pointwise')\n",
        "]\n",
        "\n",
        "#3 Problem Definiton\n",
        "\n",
        "def solve_stationary_NS(X, advection, Re, f, bc):\n",
        "  u, p = TrialFunctions(X)\n",
        "  v, q = TestFunctions(X)\n",
        "\n",
        "  a = (inner(grad(u), grad(v)) / Re - p * div(v) - div(u) * q) * dx\n",
        "  L = dot(f, v) * dx\n",
        "  if advection:\n",
        "    a += (dot(grad(u) * advection, v) + dot(grad(advection) * u, v)) * dx #NEWTONOVA METODA!!!\n",
        "    L += dot(grad(advection) * advection, v) * dx                         #BRŽE KONVERGIRA\n",
        "  \n",
        "  x = Function(X)\n",
        "  solve(a == L, x, bc)\n",
        "  \n",
        "  return x.split()\n",
        "\n",
        "# 4. solution\n",
        "Re = Constant(3000)\n",
        "f = Constant((0, 0))\n",
        "\n",
        "uh, ph = solve_stationary_NS(X, None, Re, f, bc)\n",
        "\n",
        "\n",
        "niter=50\n",
        "tollerance=1e-6\n",
        "\n",
        "for i in range(niter):\n",
        "  uh_old,ph_old=uh, ph\n",
        "  uh, ph=solve_stationary_NS(X, uh_old, Re, f, bc)\n",
        "  \n",
        "  error=(errornorm(uh, uh_old, 'H1')/norm(uh_old, 'H1')+\n",
        "         errornorm(ph, ph_old, 'L2')/norm(ph_old, 'L2'))\n",
        "  print('step {} {:.3e}'. format(i, error))\n",
        "  \n",
        "  if error<tollerance:\n",
        "    break\n",
        "       \n",
        "uh.rename('velocity', 'velocity')\n",
        "ph.rename('pressure', 'pressure')"
      ],
      "execution_count": null,
      "outputs": []
    },
    {
      "cell_type": "code",
      "metadata": {
        "id": "tXGSA056OqAE"
      },
      "source": [
        "whos"
      ],
      "execution_count": null,
      "outputs": []
    },
    {
      "cell_type": "code",
      "metadata": {
        "id": "6jiHyKOnYLbO"
      },
      "source": [
        "#!/usr/bin/env python\n",
        "\n",
        "from fenics import *\n",
        "\n",
        "# 1. mesh generation\n",
        "nx, ny = 10, 10\n",
        "mesh = UnitSquareMesh(nx, ny, 'crossed')\n",
        "\n",
        "# 2. finite element space\n",
        "degree = 1\n",
        "V = VectorElement('CG', mesh.ufl_cell(), degree+1)\n",
        "Q = FiniteElement('CG', mesh.ufl_cell(), degree)\n",
        "\n",
        "X = FunctionSpace(mesh, MixedElement([V, Q]))\n",
        "\n",
        "u_boundary = Expression((\n",
        "        'near(x[1], 1) ? 1.0 : 0.0',\n",
        "        '0'\n",
        "    ), degree=0)\n",
        "\n",
        "def boundary(x, on_boundary):\n",
        "  return on_boundary\n",
        "\n",
        "def origin(x, on_boundary):\n",
        "  return near(x[0], 0) and near(x[1], 0)\n",
        "\n",
        "bc = [\n",
        "    DirichletBC(X.sub(0), u_boundary, boundary),\n",
        "    DirichletBC(X.sub(1), Constant(0), origin, 'pointwise')\n",
        "]\n",
        "\n",
        "# 3. problem definition\n",
        "def solve_linear(X, advection, Re, f, bc):\n",
        "  u, p = TrialFunctions(X)\n",
        "  v, q = TestFunctions(X)\n",
        "\n",
        "  a = (inner(grad(u), grad(v)) / Re - p * div(v) - div(u) * q) * dx\n",
        "  L = dot(f, v) * dx\n",
        "  if advection:\n",
        "    a += (dot(grad(u) * advection, v) + dot(grad(advection) * u, v)) * dx\n",
        "    L += dot(grad(advection) * advection, v) * dx\n",
        "    \n",
        "    A = lambda u, p: (grad(u) * advection) + (grad(advection) * u) + grad(p)\n",
        "    A_SS = lambda u, p: (grad(u) * advection) + (grad(advection) * u) + grad(p)\n",
        "  \n",
        "    h = CellDiameter(X.mesh())\n",
        "    anorm = sqrt(dot(advection, advection))\n",
        "    tau_K = 0.5 * h / conditional(anorm * h * Re > 12, anorm, 12 / h / Re)\n",
        "  \n",
        "    a += tau_K * (dot(A(u, p), A_SS(v, q)) + div(u) * div(v)) * dx\n",
        "    L += tau_K * (dot(f + grad(advection) * advection, A_SS(v, q))) * dx\n",
        "  \n",
        "  x = Function(X)\n",
        "  solve(a == L, x, bc)\n",
        "  \n",
        "  return x.split()\n",
        "\n",
        "# 4. solution\n",
        "Re = Constant(300)\n",
        "f = Constant((0, 0))\n",
        "\n",
        "uh, ph = solve_linear(X, None, Re, f, bc)\n",
        "\n",
        "niter = 100\n",
        "tolerance = 1e-6\n",
        "for i in range(niter):\n",
        "  uh_old, ph_old = uh, ph\n",
        "  uh, ph = solve_linear(X, uh_old, Re, f, bc)\n",
        "  \n",
        "  error = (errornorm(uh, uh_old, 'H1') / norm(uh_old, 'H1') +\n",
        "           errornorm(ph, ph_old, 'L2') / norm(ph_old, 'L2'))\n",
        "  print('step {}: {:.3e}'.format(i, error))\n",
        "  if error < tolerance:\n",
        "    break\n",
        "\n",
        "uh.rename('velocity', 'velocity')\n",
        "ph.rename('pressure', 'pressure')\n",
        "\n",
        "File('velocity.pvd') << uh\n",
        "File('pressure.pvd') << ph\n"
      ],
      "execution_count": null,
      "outputs": []
    },
    {
      "cell_type": "code",
      "metadata": {
        "id": "Kd0LMzswpPar",
        "colab": {
          "base_uri": "https://localhost:8080/",
          "height": 33
        },
        "outputId": "335a90ef-c800-4a9b-a9a7-55d48e9f8583"
      },
      "source": [
        "clear content"
      ],
      "execution_count": null,
      "outputs": [
        {
          "output_type": "stream",
          "text": [
            "\u001b[H\u001b[2J"
          ],
          "name": "stdout"
        }
      ]
    },
    {
      "cell_type": "code",
      "metadata": {
        "id": "pEMsBKm6gUbg"
      },
      "source": [
        ""
      ],
      "execution_count": null,
      "outputs": []
    }
  ]
}