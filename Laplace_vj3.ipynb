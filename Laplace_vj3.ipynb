{
  "nbformat": 4,
  "nbformat_minor": 0,
  "metadata": {
    "colab": {
      "name": "Laplace_vj3.ipynb",
      "provenance": [],
      "collapsed_sections": [],
      "include_colab_link": true
    },
    "kernelspec": {
      "name": "python3",
      "display_name": "Python 3"
    }
  },
  "cells": [
    {
      "cell_type": "markdown",
      "metadata": {
        "id": "view-in-github",
        "colab_type": "text"
      },
      "source": [
        "<a href=\"https://colab.research.google.com/github/MarijanMarkovic/Numerical-modelling-of-differential-equations/blob/main/Laplace_vj3.ipynb\" target=\"_parent\"><img src=\"https://colab.research.google.com/assets/colab-badge.svg\" alt=\"Open In Colab\"/></a>"
      ]
    },
    {
      "cell_type": "code",
      "metadata": {
        "id": "yh1lmRjNyWlx"
      },
      "source": [
        "!apt-get install -y -qq software-properties-common python-software-properties module-init-tools\n",
        "!add-apt-repository -y ppa:fenics-packages/fenics\n",
        "!apt-get update -qq\n",
        "!apt install -y --no-install-recommends fenics\n",
        "!rm -rf *"
      ],
      "execution_count": null,
      "outputs": []
    },
    {
      "cell_type": "code",
      "metadata": {
        "id": "S3ox48b9ygVL",
        "colab": {
          "base_uri": "https://localhost:8080/",
          "height": 369
        },
        "outputId": "200c97e9-4625-4a6f-8b68-4fc561b2c45c"
      },
      "source": [
        "from fenics import*\n",
        "import matplotlib.pyplot as plt\n",
        "\n",
        "#1. Mesh Gen\n",
        "nx, ny=80, 80\n",
        "mesh=UnitSquareMesh(nx, ny, 'crossed')\n",
        "dim=mesh.geometric_dimension()\n",
        "\n",
        "#1b. Marking the boundaries\n",
        "boundary_markers = MeshFunction('size_t', mesh, dim-1, 0)\n",
        "boundary_markers.rename('boundary label', 'boundary')\n",
        "\n",
        "class BottomBoundary(SubDomain):\n",
        "  def inside(self, x, on_boundary):\n",
        "    return on_boundary and near(x[1], 0.0)\n",
        "  \n",
        "class TopBoundary(SubDomain):\n",
        "  def inside(self, x, on_boundary):\n",
        "    return on_boundary and near(x[1], 1.0)\n",
        "  \n",
        "class LeftBoundary(SubDomain):\n",
        "  def inside(self, x, on_boundary):\n",
        "    return on_boundary and near(x[0], 0.0)\n",
        "  \n",
        "class RightBoundary(SubDomain):\n",
        "  def inside(self, x, on_boundary):\n",
        "    return on_boundary and near(x[0], 1.0)\n",
        "  \n",
        "bottom=BottomBoundary()\n",
        "top=TopBoundary()\n",
        "left=LeftBoundary()\n",
        "right=RightBoundary()\n",
        "\n",
        "bottom.mark(boundary_markers, 1)\n",
        "right.mark(boundary_markers, 2)\n",
        "top.mark(boundary_markers, 3)\n",
        "left.mark(boundary_markers, 4)\n",
        "\n",
        "dx = Measure('dx', domain=mesh)\n",
        "ds = Measure('ds', domain=mesh, subdomain_data=boundary_markers)\n",
        "\n",
        "#2. Definition of Finite Element Space\n",
        "degree=1\n",
        "V=FunctionSpace(mesh, 'CG', degree)\n",
        "\n",
        "gD=Constant(0.0)\n",
        "\n",
        "bc=[\n",
        "    DirichletBC(V, gD, boundary_markers, 2),\n",
        "    DirichletBC(V, gD, boundary_markers, 4)\n",
        "]\n",
        "\n",
        "#3. Assembling/Solving\n",
        "k=Constant(1.0)\n",
        "alpha=Constant(1.0)\n",
        "f=Constant(0.0)\n",
        "\n",
        "gN=Constant(-1.0)\n",
        "uR=Constant(1.0)\n",
        "\n",
        "u=TestFunction(V)\n",
        "v=TrialFunction(V)\n",
        "\n",
        "a=k * dot(grad(u), grad(v)) * dx + alpha * u * v * ds\n",
        "L=v * f * dx - gN * v * ds(1) + alpha * uR * v *ds(3)\n",
        "\n",
        "u=Function(V)\n",
        "solve(a==L, u, bc)\n",
        "\n",
        "plot(u)\n",
        "plt.show()\n",
        "\n",
        "# 5a. save solution\n",
        "vtkfile = File('Mark_1.pvd')\n",
        "vtkfile << u\n"
      ],
      "execution_count": null,
      "outputs": [
        {
          "output_type": "stream",
          "text": [
            "Calling FFC just-in-time (JIT) compiler, this may take some time.\n",
            "Calling FFC just-in-time (JIT) compiler, this may take some time.\n",
            "Calling FFC just-in-time (JIT) compiler, this may take some time.\n",
            "Calling FFC just-in-time (JIT) compiler, this may take some time.\n",
            "Calling FFC just-in-time (JIT) compiler, this may take some time.\n",
            "Calling FFC just-in-time (JIT) compiler, this may take some time.\n"
          ],
          "name": "stdout"
        },
        {
          "output_type": "display_data",
          "data": {
            "image/png": "[encoded data removed]",
            "text/plain": [
              "<Figure size 432x288 with 1 Axes>"
            ]
          },
          "metadata": {
            "tags": []
          }
        }
      ]
    },
    {
      "cell_type": "code",
      "metadata": {
        "id": "WQnTyna37XKp"
      },
      "source": [
        ""
      ],
      "execution_count": null,
      "outputs": []
    }
  ]
}